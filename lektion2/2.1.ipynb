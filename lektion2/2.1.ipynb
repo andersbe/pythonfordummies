{
 "cells": [
  {
   "cell_type": "markdown",
   "metadata": {},
   "source": [
    "# Øvelse 2.1\n",
    "Tæl fra 0 til 20. Hver 3. gang skal der skrives \"Fizz\". Hver 5. gang skal der skrives \"Buzz\". Og endelig skal begge skrives (\"FizzBuzz\") hver 12. gang.\n",
    "\n",
    "## Pseudokode\n",
    "Hvert 3. loop  - print(\"Fizz\")\n",
    "Hvert 5. loop  - print(\"Buzz\")\n",
    "Hvert 12. loop  - print(\"FizzBuzz\")"
   ]
  },
  {
   "cell_type": "code",
   "execution_count": null,
   "metadata": {},
   "outputs": [],
   "source": [
    "# Din tur"
   ]
  }
 ],
 "metadata": {
  "language_info": {
   "name": "python"
  },
  "orig_nbformat": 4
 },
 "nbformat": 4,
 "nbformat_minor": 2
}
