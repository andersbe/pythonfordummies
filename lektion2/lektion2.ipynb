{
 "cells": [
  {
   "cell_type": "code",
   "execution_count": null,
   "metadata": {},
   "outputs": [],
   "source": [
    "# Kontrolstrukturer\n",
    "\n",
    "## if..then...else\n"
   ]
  },
  {
   "cell_type": "code",
   "execution_count": 1,
   "metadata": {},
   "outputs": [
    {
     "name": "stdout",
     "output_type": "stream",
     "text": [
      "Husk at man ikke bruge '{' i Python, men identation\n"
     ]
    }
   ],
   "source": [
    "a=True\n",
    "if a:\n",
    "    print(\"Husk at man ikke bruge '{' i Python, men indrykning\")"
   ]
  },
  {
   "cell_type": "code",
   "execution_count": 2,
   "metadata": {},
   "outputs": [
    {
     "name": "stdout",
     "output_type": "stream",
     "text": [
      "2 findes ikke i listen\n"
     ]
    }
   ],
   "source": [
    "l=[1,3,4]\n",
    "if 2 in l:\n",
    "    print(\"2 findes i listen\")\n",
    "else:\n",
    "    print(\"2 findes ikke i listen\")"
   ]
  },
  {
   "cell_type": "code",
   "execution_count": 3,
   "metadata": {},
   "outputs": [
    {
     "name": "stdout",
     "output_type": "stream",
     "text": [
      "Listen indeholder 4 elementer\n"
     ]
    }
   ],
   "source": [
    "l=[1, 2, 3, 4]\n",
    "if len(l)>5:\n",
    "    print(\"Listen indeholder mere end 5 elementer.\")\n",
    "elif len(l)==4:\n",
    "    print(\"Listen indeholder 4 elementer\")\n",
    "else:\n",
    "    print(\"Listen indeholder et andet antal elementer\")"
   ]
  },
  {
   "cell_type": "markdown",
   "metadata": {},
   "source": [
    "## For"
   ]
  },
  {
   "cell_type": "code",
   "execution_count": 9,
   "metadata": {},
   "outputs": [
    {
     "name": "stdout",
     "output_type": "stream",
     "text": [
      "1\n",
      "2\n",
      "3\n",
      "4\n",
      "5\n",
      "6\n",
      "7\n",
      "8\n",
      "9\n"
     ]
    }
   ],
   "source": [
    "r=range(1,10)\n",
    "for x in r:\n",
    "    print(x)"
   ]
  },
  {
   "cell_type": "code",
   "execution_count": 10,
   "metadata": {},
   "outputs": [
    {
     "name": "stdout",
     "output_type": "stream",
     "text": [
      "1 er et ulige tal\n",
      "2 er et lige tal\n",
      "3 er et ulige tal\n",
      "4 er et lige tal\n",
      "5 er et ulige tal\n",
      "6 er et lige tal\n",
      "7 er et ulige tal\n",
      "8 er et lige tal\n",
      "9 er et ulige tal\n"
     ]
    }
   ],
   "source": [
    "for x in r:\n",
    "    if x%2==0:\n",
    "        print(f\"{x} er et lige tal\")\n",
    "    else:\n",
    "        print(f\"{x} er et ulige tal\")"
   ]
  },
  {
   "cell_type": "markdown",
   "metadata": {},
   "source": [
    "## While"
   ]
  },
  {
   "cell_type": "code",
   "execution_count": 11,
   "metadata": {},
   "outputs": [
    {
     "name": "stdout",
     "output_type": "stream",
     "text": [
      "20\n"
     ]
    }
   ],
   "source": [
    "i = 0\n",
    "while i < 20:\n",
    "    i += 1\n",
    "print(i)"
   ]
  },
  {
   "cell_type": "markdown",
   "metadata": {},
   "source": [
    "Tid til [øvelser](./2.1.ipynb)"
   ]
  },
  {
   "cell_type": "markdown",
   "metadata": {},
   "source": [
    "## Continue og break"
   ]
  },
  {
   "cell_type": "code",
   "execution_count": 12,
   "metadata": {},
   "outputs": [
    {
     "name": "stdout",
     "output_type": "stream",
     "text": [
      "0\n",
      "1\n",
      "3\n"
     ]
    }
   ],
   "source": [
    "for i in range(0,4):\n",
    "    if i == 2:\n",
    "        continue\n",
    "    print(i)"
   ]
  },
  {
   "cell_type": "code",
   "execution_count": 13,
   "metadata": {},
   "outputs": [
    {
     "name": "stdout",
     "output_type": "stream",
     "text": [
      "0\n",
      "1\n"
     ]
    }
   ],
   "source": [
    "for i in range(0,100):\n",
    "    if i == 2:\n",
    "        break\n",
    "    print(i)"
   ]
  },
  {
   "cell_type": "markdown",
   "metadata": {},
   "source": [
    "## Compression\n",
    "Compression bruges til at skrive ellers lange kommandoer på en simpel måde. Compression kan gøre koden sværer at læse, så brug det varsomt.\n",
    "\n",
    "Compression kan f.eks. bruges på lister, ditionaries, sets."
   ]
  },
  {
   "cell_type": "code",
   "execution_count": null,
   "metadata": {},
   "outputs": [],
   "source": [
    "# Oprettelse af liste\n",
    "s = []\n",
    "\n",
    "# Tilføjelse af elementer i listen\n",
    "for element in range(0,10):\n",
    "    s.append(element)\n",
    "\n",
    "print(s)"
   ]
  },
  {
   "cell_type": "code",
   "execution_count": null,
   "metadata": {},
   "outputs": [],
   "source": [
    "# Brug af list compression\n",
    "s = [element for element in range(0,10)]\n",
    "print(s)"
   ]
  },
  {
   "cell_type": "code",
   "execution_count": 14,
   "metadata": {},
   "outputs": [
    {
     "name": "stdout",
     "output_type": "stream",
     "text": [
      "[0, 2, 4, 6, 8]\n"
     ]
    }
   ],
   "source": [
    "s = [x for x in range(0,10) if x%2 == 0]\n",
    "print(s)"
   ]
  },
  {
   "cell_type": "code",
   "execution_count": 15,
   "metadata": {},
   "outputs": [
    {
     "name": "stdout",
     "output_type": "stream",
     "text": [
      "[6, 8]\n"
     ]
    }
   ],
   "source": [
    "# Multiple conditions\n",
    "s = [x for x in range(0,10) if x%2==0 and x > 4]\n",
    "print(s)"
   ]
  },
  {
   "cell_type": "code",
   "execution_count": null,
   "metadata": {},
   "outputs": [],
   "source": [
    "# Nested comprehension\n",
    "\n",
    "# Regular construction\n",
    "s = []\n",
    "for x in range(0,10):\n",
    "    for y in range(0,5):\n",
    "        s.append((x,y))\n",
    "print(s)"
   ]
  },
  {
   "cell_type": "code",
   "execution_count": null,
   "metadata": {},
   "outputs": [],
   "source": [
    "# Nested comprehension - implementation\n",
    "s = [(x,y) for x in range(0,10) for y in range(0,5)]\n",
    "print(s)"
   ]
  },
  {
   "cell_type": "code",
   "execution_count": 16,
   "metadata": {},
   "outputs": [
    {
     "name": "stdout",
     "output_type": "stream",
     "text": [
      "[(4, 0), (4, 1), (4, 2), (4, 3), (5, 0), (5, 1), (5, 2), (5, 3), (6, 0), (6, 1), (6, 2), (6, 3), (7, 0), (7, 1), (7, 2), (7, 3), (8, 0), (8, 1), (8, 2), (8, 3), (9, 0), (9, 1), (9, 2), (9, 3)]\n"
     ]
    }
   ],
   "source": [
    "# Visually clear formatting for more complicated situation\n",
    "s = [(x,y) for x in range(0,10)\n",
    "           for y in range(0,5)\n",
    "           if x>3\n",
    "           and y < 4]\n",
    "print(s)"
   ]
  },
  {
   "cell_type": "markdown",
   "metadata": {},
   "source": [
    "Tid til [øvelser](./2.2.ipynb)"
   ]
  },
  {
   "cell_type": "markdown",
   "metadata": {},
   "source": [
    "## Mere compression"
   ]
  },
  {
   "cell_type": "code",
   "execution_count": 17,
   "metadata": {},
   "outputs": [
    {
     "name": "stdout",
     "output_type": "stream",
     "text": [
      "{'a': 0, 'b': 1, 'c': 2}\n"
     ]
    }
   ],
   "source": [
    "# Opret dictionary på baggrund af to liste vha. zip.\n",
    "\n",
    "d = {a:b for a,b in zip(['a', 'b', 'c'], range(0,3))}\n",
    "print(d)"
   ]
  },
  {
   "cell_type": "code",
   "execution_count": 18,
   "metadata": {},
   "outputs": [
    {
     "name": "stdout",
     "output_type": "stream",
     "text": [
      "{'a': 0, 'b': 2, 'c': 4}\n",
      "{'aa': 0, 'bb': 1, 'cc': 2}\n"
     ]
    }
   ],
   "source": [
    "# Transform dictionary.\n",
    "\n",
    "transformed = {key: value*2 for (key,value) in d.items()}\n",
    "print(transformed)\n",
    "\n",
    "transformed_keys = {key*2: value for (key,value) in d.items()}\n",
    "print(transformed_keys)"
   ]
  },
  {
   "cell_type": "markdown",
   "metadata": {},
   "source": [
    "## Et eksempel og en øvelse"
   ]
  },
  {
   "cell_type": "code",
   "execution_count": 20,
   "metadata": {},
   "outputs": [
    {
     "name": "stdout",
     "output_type": "stream",
     "text": [
      "[range(0, 5), range(5, 10), range(10, 15)]\n",
      "[0, 1, 2, 3, 4, 5, 6, 7, 8, 9, 10, 11, 12, 13, 14]\n"
     ]
    }
   ],
   "source": [
    "# Flatten a matrix\n",
    "\n",
    "matrix = [range(0,5), range(5,10), range(10,15)]\n",
    "print(matrix)\n",
    "flatten = [column for row in matrix for column in row]\n",
    "print(flatten)"
   ]
  },
  {
   "cell_type": "markdown",
   "metadata": {},
   "source": [
    "Flere [øvelser](./2.3.ipynb)"
   ]
  }
 ],
 "metadata": {
  "interpreter": {
   "hash": "916dbcbb3f70747c44a77c7bcd40155683ae19c65e1c03b4aa3499c5328201f1"
  },
  "kernelspec": {
   "display_name": "Python 3.8.10 64-bit",
   "language": "python",
   "name": "python3"
  },
  "language_info": {
   "codemirror_mode": {
    "name": "ipython",
    "version": 3
   },
   "file_extension": ".py",
   "mimetype": "text/x-python",
   "name": "python",
   "nbconvert_exporter": "python",
   "pygments_lexer": "ipython3",
   "version": "3.8.10"
  },
  "orig_nbformat": 4
 },
 "nbformat": 4,
 "nbformat_minor": 2
}
