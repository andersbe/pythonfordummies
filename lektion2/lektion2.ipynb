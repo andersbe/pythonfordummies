{
 "cells": [
  {
   "cell_type": "markdown",
   "metadata": {},
   "source": [
    "# Kontrolstrukturer\n",
    "\n",
    "## if..then...else\n"
   ]
  },
  {
   "cell_type": "code",
   "execution_count": null,
   "metadata": {},
   "outputs": [],
   "source": [
    "a=True\n",
    "if a:\n",
    "    print(\"Bemærkt at man ikke bruge '{' i Python, men indrykning\")"
   ]
  },
  {
   "cell_type": "code",
   "execution_count": null,
   "metadata": {},
   "outputs": [],
   "source": [
    "l=[1,3,4]\n",
    "if 2 in l:\n",
    "    print(\"2 findes i listen\")\n",
    "else:\n",
    "    print(\"2 findes ikke i listen\")"
   ]
  },
  {
   "cell_type": "code",
   "execution_count": null,
   "metadata": {},
   "outputs": [],
   "source": [
    "l=[1, 2, 3, 4]\n",
    "if len(l)>5:\n",
    "    print(\"Listen indeholder mere end 5 elementer.\")\n",
    "elif len(l)==4:\n",
    "    print(\"Listen indeholder 4 elementer\")\n",
    "else:\n",
    "    print(\"Listen indeholder et andet antal elementer\")"
   ]
  },
  {
   "cell_type": "markdown",
   "metadata": {},
   "source": [
    "## For"
   ]
  },
  {
   "cell_type": "code",
   "execution_count": null,
   "metadata": {},
   "outputs": [],
   "source": [
    "r=range(1,10)\n",
    "for x in r:\n",
    "    print(x)"
   ]
  },
  {
   "cell_type": "code",
   "execution_count": null,
   "metadata": {},
   "outputs": [],
   "source": [
    "for x in r:\n",
    "    if x%2==0:\n",
    "        print(f\"{x} er et lige tal\")\n",
    "    else:\n",
    "        print(f\"{x} er et ulige tal\")"
   ]
  },
  {
   "cell_type": "markdown",
   "metadata": {},
   "source": [
    "## While"
   ]
  },
  {
   "cell_type": "code",
   "execution_count": null,
   "metadata": {},
   "outputs": [],
   "source": [
    "i = 0\n",
    "while i < 20:\n",
    "    i += 1\n",
    "print(i)"
   ]
  },
  {
   "cell_type": "markdown",
   "metadata": {},
   "source": [
    "Tid til [øvelser](./2.1.ipynb)"
   ]
  },
  {
   "cell_type": "markdown",
   "metadata": {},
   "source": [
    "## Continue og break"
   ]
  },
  {
   "cell_type": "code",
   "execution_count": null,
   "metadata": {},
   "outputs": [],
   "source": [
    "for i in range(0,4):\n",
    "    if i == 2:\n",
    "        continue\n",
    "    print(i)"
   ]
  },
  {
   "cell_type": "code",
   "execution_count": null,
   "metadata": {},
   "outputs": [],
   "source": [
    "for i in range(0,100):\n",
    "    if i == 2:\n",
    "        break\n",
    "    print(i)"
   ]
  },
  {
   "cell_type": "markdown",
   "metadata": {},
   "source": [
    "## Compression\n",
    "Compression bruges til at skrive ellers lange kommandoer på en simpel måde. Compression kan gøre koden sværer at læse, så brug det varsomt.\n",
    "\n",
    "Compression kan f.eks. bruges på lister, ditionaries, sets."
   ]
  },
  {
   "cell_type": "code",
   "execution_count": null,
   "metadata": {},
   "outputs": [],
   "source": [
    "# Oprettelse af liste\n",
    "s = []\n",
    "\n",
    "# Tilføjelse af elementer i listen\n",
    "for element in range(0,10):\n",
    "    s.append(element)\n",
    "\n",
    "print(s)"
   ]
  },
  {
   "cell_type": "code",
   "execution_count": null,
   "metadata": {},
   "outputs": [],
   "source": [
    "# Brug af list compression\n",
    "s = [element for element in range(0,10)]\n",
    "print(s)"
   ]
  },
  {
   "cell_type": "code",
   "execution_count": null,
   "metadata": {},
   "outputs": [],
   "source": [
    "s = [x for x in range(0,10) if x%2 == 0]\n",
    "print(s)"
   ]
  },
  {
   "cell_type": "code",
   "execution_count": null,
   "metadata": {},
   "outputs": [],
   "source": [
    "# Multiple conditions\n",
    "s = [x for x in range(0,10) if x%2==0 and x > 4]\n",
    "print(s)"
   ]
  },
  {
   "cell_type": "code",
   "execution_count": null,
   "metadata": {},
   "outputs": [],
   "source": [
    "# Nested comprehension\n",
    "\n",
    "# Regular construction\n",
    "s = []\n",
    "for x in range(0,10):\n",
    "    for y in range(0,5):\n",
    "        s.append((x,y))\n",
    "print(s)"
   ]
  },
  {
   "cell_type": "code",
   "execution_count": null,
   "metadata": {},
   "outputs": [],
   "source": [
    "# Nested comprehension - implementation\n",
    "s = [(x,y) for x in range(0,10) for y in range(0,5)]\n",
    "print(s)"
   ]
  },
  {
   "cell_type": "code",
   "execution_count": null,
   "metadata": {},
   "outputs": [],
   "source": [
    "# Visually clear formatting for more complicated situation\n",
    "s = [(x,y) for x in range(0,10)\n",
    "           for y in range(0,5)\n",
    "           if x>3\n",
    "           and y < 4]\n",
    "print(s)"
   ]
  },
  {
   "cell_type": "markdown",
   "metadata": {},
   "source": [
    "Tid til [øvelser](./2.2.ipynb)"
   ]
  },
  {
   "cell_type": "markdown",
   "metadata": {},
   "source": [
    "## Mere compression"
   ]
  },
  {
   "cell_type": "code",
   "execution_count": null,
   "metadata": {},
   "outputs": [],
   "source": [
    "# Opret dictionary på baggrund af to liste vha. zip.\n",
    "\n",
    "d = {a:b for a,b in zip(['a', 'b', 'c'], range(0,3))}\n",
    "print(d)"
   ]
  },
  {
   "cell_type": "code",
   "execution_count": null,
   "metadata": {},
   "outputs": [],
   "source": [
    "# Transform dictionary.\n",
    "\n",
    "transformed = {key: value*2 for (key,value) in d.items()}\n",
    "print(transformed)\n",
    "\n",
    "transformed_keys = {key*2: value for (key,value) in d.items()}\n",
    "print(transformed_keys)"
   ]
  },
  {
   "cell_type": "markdown",
   "metadata": {},
   "source": [
    "## Et eksempel og en øvelse"
   ]
  },
  {
   "cell_type": "code",
   "execution_count": null,
   "metadata": {},
   "outputs": [],
   "source": [
    "# Flatten a matrix\n",
    "\n",
    "matrix = [range(0,5), range(5,10), range(10,15)]\n",
    "print(matrix)\n",
    "flatten = [column for row in matrix for column in row]\n",
    "print(flatten)"
   ]
  },
  {
   "cell_type": "markdown",
   "metadata": {},
   "source": [
    "Flere [øvelser](./2.3.ipynb)"
   ]
  }
 ],
 "metadata": {
  "interpreter": {
   "hash": "916dbcbb3f70747c44a77c7bcd40155683ae19c65e1c03b4aa3499c5328201f1"
  },
  "kernelspec": {
   "display_name": "Python 3.8.10 64-bit",
   "language": "python",
   "name": "python3"
  },
  "language_info": {
   "codemirror_mode": {
    "name": "ipython",
    "version": 3
   },
   "file_extension": ".py",
   "mimetype": "text/x-python",
   "name": "python",
   "nbconvert_exporter": "python",
   "pygments_lexer": "ipython3",
   "version": "3.8.10"
  },
  "orig_nbformat": 4
 },
 "nbformat": 4,
 "nbformat_minor": 2
}
