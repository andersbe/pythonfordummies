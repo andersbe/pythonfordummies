{
 "cells": [
  {
   "cell_type": "markdown",
   "metadata": {},
   "source": [
    "# Pytest\n",
    "\n",
    "Pytest bruges til at teste python programmer. Det installeres vha. `pip install pytest` (eller via requirements.txt).\n",
    "\n",
    "\n",
    "```python\n",
    "# content of test_sample.py\n",
    "def inc(x):\n",
    "    return x + 1\n",
    "\n",
    "def test_answer():\n",
    "    assert inc(3) == 5\n",
    "```\n",
    "Afvikling af test: `pytest test_sample.py`."
   ]
  },
  {
   "cell_type": "markdown",
   "metadata": {},
   "source": [
    "## Fixture\n",
    "Hvis man har behov for at afvikle metoder før selve testen gøres dette vha. `@pytest.fixture`. \n",
    "\n",
    "Fixtures kan have forskellige scopes:\n",
    "\n",
    "- Session: Hele pytest-sessionen\n",
    "- function: Eksekveres for hver test\n",
    "\n",
    "[test_firkant.py](test_firkant.py)\n",
    "\n",
    "### Øvelse 5.1:\n",
    "Ret koden så testen går godt.\n",
    "\n",
    "### Øvelse 5.2:\n",
    "Udarbejd en test for Trekant der tester areal-metoden."
   ]
  },
  {
   "cell_type": "markdown",
   "metadata": {},
   "source": [
    "## Mocking\n",
    "Mocking kan bruges i de tilfælde, hvor man ikke ønsker at kalde f.eks. et api. "
   ]
  },
  {
   "cell_type": "code",
   "execution_count": null,
   "metadata": {},
   "outputs": [],
   "source": [
    "import time\n",
    "\n",
    "def compute(x):\n",
    "    response = expensive_api_call()\n",
    "    return response +x\n",
    "def expensive_api_call():\n",
    "    time.sleep(1000)\n",
    "    return 123\n",
    "\n",
    "def test_compute():\n",
    "    expected=124\n",
    "    actual=compute(1)\n",
    "    assert expected == actual\n",
    "    \n",
    "test_compute()"
   ]
  },
  {
   "cell_type": "markdown",
   "metadata": {},
   "source": [
    "Se [expensive_api_call.py](expensive_api_call.py) og [mock1.py](mock1.py)"
   ]
  }
 ],
 "metadata": {
  "interpreter": {
   "hash": "916dbcbb3f70747c44a77c7bcd40155683ae19c65e1c03b4aa3499c5328201f1"
  },
  "kernelspec": {
   "display_name": "Python 3.8.10 64-bit",
   "language": "python",
   "name": "python3"
  },
  "language_info": {
   "codemirror_mode": {
    "name": "ipython",
    "version": 3
   },
   "file_extension": ".py",
   "mimetype": "text/x-python",
   "name": "python",
   "nbconvert_exporter": "python",
   "pygments_lexer": "ipython3",
   "version": "3.8.10"
  },
  "orig_nbformat": 4
 },
 "nbformat": 4,
 "nbformat_minor": 2
}
