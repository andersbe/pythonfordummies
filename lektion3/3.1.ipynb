{
 "cells": [
  {
   "cell_type": "markdown",
   "metadata": {},
   "source": [
    "# Øvelse 3.1\n",
    "## Øvelse 3.1.1: Udvid `Firkant` til at kunne udregne omkredsen"
   ]
  },
  {
   "cell_type": "code",
   "execution_count": null,
   "metadata": {},
   "outputs": [],
   "source": [
    "class Firkant:\n",
    "    def __init__(self,a: int, b:int):\n",
    "        self.a=a\n",
    "        self.b=b\n",
    "    def areal(self) -> int:\n",
    "        return self.a*self.b\n",
    "\n",
    "firkant = Firkant(5,3)\n",
    "print(firkant.areal())\n",
    "print(firkant.omkreds())"
   ]
  },
  {
   "cell_type": "markdown",
   "metadata": {},
   "source": [
    "## Øvelse 3.1.2: Opret klassen `Trekant` og tilføj metode til at udregne areal"
   ]
  },
  {
   "cell_type": "code",
   "execution_count": null,
   "metadata": {},
   "outputs": [],
   "source": []
  }
 ],
 "metadata": {
  "language_info": {
   "name": "python"
  },
  "orig_nbformat": 4
 },
 "nbformat": 4,
 "nbformat_minor": 2
}
