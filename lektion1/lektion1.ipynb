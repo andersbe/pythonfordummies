{
 "cells": [
  {
   "cell_type": "markdown",
   "metadata": {},
   "source": [
    "#  Variable, typer og det første python program\n",
    "## Mål\n",
    "\n",
    "- Skrive små python programmer\n",
    "- Kende til typer og variable i Python\n",
    "\n",
    "## Variable\n",
    "En variable bruges (som i alle andre sprog) til at gemme værdier med en eller anden datatype. "
   ]
  },
  {
   "cell_type": "code",
   "execution_count": null,
   "metadata": {},
   "outputs": [],
   "source": [
    "name=\"Anders\"\n",
    "print(name)"
   ]
  },
  {
   "cell_type": "code",
   "execution_count": null,
   "metadata": {},
   "outputs": [],
   "source": [
    "print(f\"Hallo, {name}!\")"
   ]
  },
  {
   "cell_type": "code",
   "execution_count": null,
   "metadata": {},
   "outputs": [],
   "source": [
    "my_age = 92\n",
    "your_age = 23\n",
    "age_difference = my_age - your_age\n",
    "print(age_difference)"
   ]
  },
  {
   "cell_type": "markdown",
   "metadata": {},
   "source": [
    "Det er muligt at tildele værdier til flere variable på engang"
   ]
  },
  {
   "cell_type": "code",
   "execution_count": null,
   "metadata": {},
   "outputs": [],
   "source": [
    "a,b,c,d,e = \"Tue\", \" er\", \" sandelig\", \" flot\", \" i dag\"\n",
    "print(a,b,c,d,e)"
   ]
  },
  {
   "cell_type": "markdown",
   "metadata": {},
   "source": [
    "Så er det tid til den første øvelse: [Øvelse 1](./1.1.ipynb)"
   ]
  },
  {
   "cell_type": "markdown",
   "metadata": {},
   "source": [
    "## Datatyper\n",
    "### Numeriske typer\n",
    "`int`, `float`, `complex` "
   ]
  },
  {
   "cell_type": "code",
   "execution_count": null,
   "metadata": {},
   "outputs": [],
   "source": [
    "a=100\n",
    "print(a, type(a))"
   ]
  },
  {
   "cell_type": "code",
   "execution_count": null,
   "metadata": {},
   "outputs": [],
   "source": [
    "b = 11.33333\n",
    "c = 11111.33\n",
    "print (b, type(b))\n",
    "print (c, type(c))\n"
   ]
  },
  {
   "cell_type": "code",
   "execution_count": null,
   "metadata": {},
   "outputs": [],
   "source": [
    "c = 2 + 3j\n",
    "print(c, type(c))"
   ]
  },
  {
   "cell_type": "code",
   "execution_count": null,
   "metadata": {},
   "outputs": [],
   "source": [
    "# Addition\n",
    "print(1+1)\n",
    "\n",
    "# Multiplication\n",
    "print(2*2)\n",
    "\n",
    "# Division\n",
    "print(4/2)\n",
    "\n",
    "# Remainder of division\n",
    "print(5%2)\n",
    "\n",
    "# Power\n",
    "print(2**4)"
   ]
  },
  {
   "cell_type": "markdown",
   "metadata": {},
   "source": [
    "### Strings\n",
    "`str` er brugt til repræsentation af strenge. I Python oprettes en streng-variable ved at bruge `\"` eller `'`."
   ]
  },
  {
   "cell_type": "code",
   "execution_count": null,
   "metadata": {},
   "outputs": [],
   "source": [
    "a = \"Something\"\n",
    "b = 'Something else'\n",
    "print(type(a), type(b))"
   ]
  },
  {
   "cell_type": "code",
   "execution_count": null,
   "metadata": {},
   "outputs": [],
   "source": [
    "name = 'Anders'\n",
    "print(name + name)\n",
    "print(name * 3)"
   ]
  },
  {
   "cell_type": "markdown",
   "metadata": {},
   "source": [
    "Strenge i teorien \"bare\" en liste."
   ]
  },
  {
   "cell_type": "code",
   "execution_count": null,
   "metadata": {},
   "outputs": [],
   "source": [
    "print('Second character is:  ' + name[1])"
   ]
  },
  {
   "cell_type": "code",
   "execution_count": null,
   "metadata": {},
   "outputs": [],
   "source": [
    "print('From second to fourth: ' + name[1:4])"
   ]
  },
  {
   "cell_type": "code",
   "execution_count": null,
   "metadata": {},
   "outputs": [],
   "source": [
    "print('The last character (or first counting from the end) is: ' + name[-1])"
   ]
  },
  {
   "cell_type": "code",
   "execution_count": null,
   "metadata": {},
   "outputs": [],
   "source": [
    "print('All characters, but skip every second: ' + name[0:4:2])"
   ]
  },
  {
   "cell_type": "markdown",
   "metadata": {},
   "source": [
    "Her kommer eksempler på hvordan man finder strenge i en større streng."
   ]
  },
  {
   "cell_type": "code",
   "execution_count": null,
   "metadata": {},
   "outputs": [],
   "source": [
    "some_string = \"AAAAAAAAAAAAAAAAAAAAAAAAAAAAAxxAAAAAAAAAAAAAAAAAAAA\"\n",
    "substring = \"xx\"\n",
    "location = some_string.find(substring)\n",
    "\n",
    "print(\"Lets see what we found:\")\n",
    "print(some_string[location:location+len(substring)])"
   ]
  },
  {
   "cell_type": "markdown",
   "metadata": {},
   "source": [
    "Replace:"
   ]
  },
  {
   "cell_type": "code",
   "execution_count": null,
   "metadata": {},
   "outputs": [],
   "source": [
    "some_string = \"AAAAAAAAAAAAAAAAAAAAAAAAAAAAAxxAAAAAAAAAAAAAAAAAAAA\"\n",
    "substring = \"xx\"\n",
    "\n",
    "print(some_string.replace( substring , \"___REPLACED___\"))"
   ]
  },
  {
   "cell_type": "markdown",
   "metadata": {},
   "source": [
    "## Boolean\n",
    "\n",
    "Boolean er enten `True` eller `False`."
   ]
  },
  {
   "cell_type": "markdown",
   "metadata": {},
   "source": [
    "Tid til flere [øvelser](./1.2.ipynb)"
   ]
  },
  {
   "cell_type": "markdown",
   "metadata": {},
   "source": [
    "## Lister \n",
    "Lister er `ordered` og kan bestå af 0 eller flere elementer.\n",
    "\n",
    "### Oprettelse af lister\n",
    "Lister kan oprettes ved enten at:\n",
    "1. Oprette en tom liste\n",
    "2. Danne en liste på basis af en anden variable\n",
    "3. Oprette en liste med bestemte elementer"
   ]
  },
  {
   "cell_type": "code",
   "execution_count": null,
   "metadata": {},
   "outputs": [],
   "source": [
    "empty_list = []\n",
    "list_from_something_else = list('I feel like Im going to explode')\n",
    "list_elements_defined_when_list_is_created = [1, 2, 3, 4]\n",
    "print(empty_list)\n",
    "print(list_from_something_else)\n",
    "print(list_elements_defined_when_list_is_created)"
   ]
  },
  {
   "cell_type": "markdown",
   "metadata": {},
   "source": [
    "### Valg af elementer i liste"
   ]
  },
  {
   "cell_type": "code",
   "execution_count": null,
   "metadata": {},
   "outputs": [],
   "source": [
    "\n",
    "l = [\"a\", \"b\", \"c\", \"d\", \"e\"]\n",
    "print(l[0])\n",
    "print(l[-1])\n",
    "print(l[1:3])"
   ]
  },
  {
   "cell_type": "markdown",
   "metadata": {},
   "source": [
    "### Tilføj og slet fra liste"
   ]
  },
  {
   "cell_type": "code",
   "execution_count": null,
   "metadata": {},
   "outputs": [],
   "source": [
    "l = []\n",
    "l.append(1)\n",
    "print(l)\n",
    "l[0] = 222\n",
    "print(l)\n",
    "l.append(23)\n",
    "print(l)"
   ]
  },
  {
   "cell_type": "code",
   "execution_count": null,
   "metadata": {},
   "outputs": [],
   "source": [
    "l = [\"a\", \"b\", \"C\", \"c\"]\n",
    "print(l)\n",
    "l.remove(\"C\")\n",
    "print(l)"
   ]
  },
  {
   "cell_type": "code",
   "execution_count": null,
   "metadata": {},
   "outputs": [],
   "source": [
    "l = [1,2,3,3,4,5,3,2,3,2]\n",
    "\n",
    "# Make a new list from a part of that list\n",
    "new = l[4:7]\n",
    "print new"
   ]
  },
  {
   "cell_type": "markdown",
   "metadata": {},
   "source": [
    "## Sets\n",
    "Opfører sig som lister - dog skal alle elementer være unikke (lige som i `Java`)."
   ]
  },
  {
   "cell_type": "code",
   "execution_count": null,
   "metadata": {},
   "outputs": [],
   "source": [
    "some_sequence = [1,1,1,1,2,2,2,3,3,3]\n",
    "some_set = set(some_sequence)\n",
    "print(some_set)\n",
    "\n",
    "some_string = \"What's going ooooon?\"\n",
    "another_set = set(some_string)\n",
    "print(another_set)"
   ]
  },
  {
   "cell_type": "markdown",
   "metadata": {},
   "source": [
    "## Tuple \n",
    "En tuple er en simpel data struktur, der på mange måder minder om en liste. Bortset fra, at man ikke kan ændre den efter den er oprettet. Du danner en tuple på næsten samme måde - dog bruger man normale parenteser."
   ]
  },
  {
   "cell_type": "code",
   "execution_count": null,
   "metadata": {},
   "outputs": [],
   "source": [
    "some_tuple = (1,3,4)\n",
    "print(some_tuple)\n",
    "print(type(some_tuple))\n",
    "print(len(some_tuple))\n",
    "print(some_tuple[0])\n",
    "print(some_tuple[-1])\n",
    "print(some_tuple[1:2])\n",
    "\n",
    "\n",
    "other_tuple = 1, 2, 3\n",
    "print(other_tuple)\n",
    "print(type(other_tuple))"
   ]
  },
  {
   "cell_type": "code",
   "execution_count": null,
   "metadata": {},
   "outputs": [],
   "source": [
    "# Nu bør der komme en fejl - vi kan ikke ændre en tuple\n",
    "some_tuple[1] = 22"
   ]
  },
  {
   "cell_type": "markdown",
   "metadata": {},
   "source": [
    "## Dictionary\n",
    "Dictionaries er meget brugt i Python. Basalt set er der tale om key-value pairs - lidt i stil med `Hash Maps` i f.eks. `Java`. \n",
    "\n",
    "### Creating dictionaries"
   ]
  },
  {
   "cell_type": "code",
   "execution_count": null,
   "metadata": {},
   "outputs": [],
   "source": [
    "empty_dictionary = {}\n",
    "print(empty_dictionary)\n",
    "print(type(empty_dictionary))"
   ]
  },
  {
   "cell_type": "code",
   "execution_count": null,
   "metadata": {},
   "outputs": [],
   "source": [
    "dictionary_from_direct_definition = {\"key1\": 1, \"key2\": 33}\n",
    "print(dictionary_from_direct_definition)"
   ]
  },
  {
   "cell_type": "code",
   "execution_count": null,
   "metadata": {},
   "outputs": [],
   "source": [
    "# Oprettelse af dictionary på basis af en liste af tuples\n",
    "dictionary_from_a_collection = dict([(\"a\", 1), (\"b\", 2)])\n",
    "print(dictionary_from_a_collection)"
   ]
  },
  {
   "cell_type": "code",
   "execution_count": null,
   "metadata": {},
   "outputs": [],
   "source": [
    "# Oprettelse af dictionary på basis af to lister\n",
    "some_list_with_strings = [\"a\", \"b\", \"c\"]\n",
    "some_list_with_numbers = [1,2,3]\n",
    "dictionary_from_two_lists = dict(zip(some_list_with_strings, some_list_with_numbers))\n",
    "print(dictionary_from_two_lists)\n",
    "print(type(dictionary_from_two_lists))"
   ]
  },
  {
   "cell_type": "markdown",
   "metadata": {},
   "source": [
    "### Tilføjelse af elementer"
   ]
  },
  {
   "cell_type": "code",
   "execution_count": null,
   "metadata": {},
   "outputs": [],
   "source": [
    "d = {}\n",
    "d[\"a\"] = 1\n",
    "d[\"bs\"] = 22\n",
    "d[\"ddddd\"] = 31\n",
    "print(d)"
   ]
  },
  {
   "cell_type": "code",
   "execution_count": null,
   "metadata": {},
   "outputs": [],
   "source": [
    "d.update({\"b\": 2, \"c\": 3})\n",
    "print(d)"
   ]
  },
  {
   "cell_type": "markdown",
   "metadata": {},
   "source": [
    "### Fjern elementer"
   ]
  },
  {
   "cell_type": "code",
   "execution_count": null,
   "metadata": {},
   "outputs": [],
   "source": [
    "del d[\"b\"]\n",
    "print(d)"
   ]
  },
  {
   "cell_type": "code",
   "execution_count": null,
   "metadata": {},
   "outputs": [],
   "source": [
    "d.pop(\"c\")\n",
    "print(d)"
   ]
  },
  {
   "cell_type": "markdown",
   "metadata": {},
   "source": [
    "### Inspektion af dictionaries"
   ]
  },
  {
   "cell_type": "code",
   "execution_count": null,
   "metadata": {},
   "outputs": [],
   "source": [
    "# Hvor mange nøgler?\n",
    "print(d.keys())\n",
    "print(len(d))\n",
    "print(len(d.keys()))"
   ]
  },
  {
   "cell_type": "code",
   "execution_count": null,
   "metadata": {},
   "outputs": [],
   "source": [
    "# mange værdier?\n",
    "print(d.values())\n",
    "print(len(d.values()))"
   ]
  }
 ],
 "metadata": {
  "interpreter": {
   "hash": "916dbcbb3f70747c44a77c7bcd40155683ae19c65e1c03b4aa3499c5328201f1"
  },
  "kernelspec": {
   "display_name": "Python 3.8.10 64-bit",
   "language": "python",
   "name": "python3"
  },
  "language_info": {
   "codemirror_mode": {
    "name": "ipython",
    "version": 3
   },
   "file_extension": ".py",
   "mimetype": "text/x-python",
   "name": "python",
   "nbconvert_exporter": "python",
   "pygments_lexer": "ipython3",
   "version": "3.8.10"
  },
  "orig_nbformat": 4
 },
 "nbformat": 4,
 "nbformat_minor": 2
}
