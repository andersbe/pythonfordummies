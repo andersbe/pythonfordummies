{
 "cells": [
  {
   "cell_type": "markdown",
   "metadata": {},
   "source": [
    "# Øvelse 1.1\n",
    "Tid: 5 minutter\n",
    "## 1.1.1: Navn og alder\n",
    "Skriv navn og alder ud vha. `print`. "
   ]
  },
  {
   "cell_type": "code",
   "execution_count": null,
   "metadata": {},
   "outputs": [],
   "source": [
    "print(\"Navn og alder\")"
   ]
  },
  {
   "cell_type": "markdown",
   "metadata": {},
   "source": [
    "## 1.1.2: Multiple assignment\n",
    "Skriv værdien ud for variable `a, b, c og d`. Udskriv derefter værdien vha. et enkelt kald til `print`.\n",
    "  "
   ]
  },
  {
   "cell_type": "code",
   "execution_count": null,
   "metadata": {},
   "outputs": [],
   "source": [
    "print(\"a,b,c,d\")"
   ]
  },
  {
   "cell_type": "markdown",
   "metadata": {},
   "source": [
    "## 1.1.3: Sidste omgang\n",
    "1. Skriv `a,b,c,d = 3,4,10,-5`\n",
    "2. Træk `a og c` fra hinanden og gem i `x`.\n",
    "3. Gang `b og d` og gem i `y`.\n",
    "4. Udskriv både `x` og `y`."
   ]
  },
  {
   "cell_type": "code",
   "execution_count": null,
   "metadata": {},
   "outputs": [],
   "source": [
    "....\n",
    "print(f\"x={x}\")\n"
   ]
  }
 ],
 "metadata": {
  "language_info": {
   "name": "python"
  },
  "orig_nbformat": 4
 },
 "nbformat": 4,
 "nbformat_minor": 2
}
