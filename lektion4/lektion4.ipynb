{
 "cells": [
  {
   "cell_type": "markdown",
   "metadata": {},
   "source": [
    "# Dependencies og filer\n",
    "\n",
    "## Dependencies\n",
    "Python har et rigt miljø med diverse libraries kaldet `pypi`. Her kan man finde alt imellem himmel og jord. Et eksempel kunne være [py-fibonacci](https://pypi.org/project/py-fibonacci/).\n",
    "\n",
    "Libraries fra `pypi` installeres enten ved at skrive `pip install <library name>` eller ved at liste dem i filen `requirements.txt`. På den måde kan man installere flere dependencies på en gang: `pip install -r requirements.txt`."
   ]
  },
  {
   "cell_type": "code",
   "execution_count": 1,
   "metadata": {},
   "outputs": [
    {
     "name": "stdout",
     "output_type": "stream",
     "text": [
      "[0, 1, 1, 2, 3, 5, 8, 13, 21, 34]\n"
     ]
    }
   ],
   "source": [
    "from fibonacci import fibonacci\n",
    "print(fibonacci(39))"
   ]
  },
  {
   "cell_type": "markdown",
   "metadata": {},
   "source": [
    "### Øvelse 4.1\n",
    "1. Find et bibliotek der kan finde Levenstein afstanden i mellem to tekster.\n",
    "2. Tilføj til requirements.txt og installer\n",
    "3. Opret en fil `4.1.py`\n",
    "4. Udregn afstande imellem 'Levenshtein' og 'Lenvinsten': `distance('Levenshtein', 'Lenvinsten')`"
   ]
  },
  {
   "cell_type": "markdown",
   "metadata": {},
   "source": [
    "## Læs fra filer\n",
    "### Øvelse 4.2\n",
    "1. Undersøg, hvordan man læser fra en fil i Python\n",
    "2. Læs indholdet af filen `text1.txt` og Udskriv\n",
    "\n",
    "## Skriv til filer\n",
    "Først skal vi have åbnet en fil. Vi bruger `with`, så vi slipper for at huske at lukke filen."
   ]
  },
  {
   "cell_type": "code",
   "execution_count": 2,
   "metadata": {},
   "outputs": [
    {
     "name": "stdout",
     "output_type": "stream",
     "text": [
      "Hello! Welcome to text1.txt\n",
      "This file is for testing purposes.\n",
      "Good Luck!\n"
     ]
    }
   ],
   "source": [
    "with open(\"text1.txt\") as file:\n",
    "    data=file.read()\n",
    "    print(data)"
   ]
  },
  {
   "cell_type": "code",
   "execution_count": 3,
   "metadata": {},
   "outputs": [],
   "source": [
    "with open(\"text2.txt\", \"w\") as file2:\n",
    "    file2.write(\"Hej med dig\")"
   ]
  },
  {
   "cell_type": "markdown",
   "metadata": {},
   "source": [
    "### Øvelse 4.2\n",
    "1. Indlæs filen text1\n",
    "2. Gør hvert andet tegn stort \n",
    "3. Gem i filen `text2.txt`"
   ]
  }
 ],
 "metadata": {
  "interpreter": {
   "hash": "916dbcbb3f70747c44a77c7bcd40155683ae19c65e1c03b4aa3499c5328201f1"
  },
  "kernelspec": {
   "display_name": "Python 3.8.10 64-bit",
   "language": "python",
   "name": "python3"
  },
  "language_info": {
   "codemirror_mode": {
    "name": "ipython",
    "version": 3
   },
   "file_extension": ".py",
   "mimetype": "text/x-python",
   "name": "python",
   "nbconvert_exporter": "python",
   "pygments_lexer": "ipython3",
   "version": "3.8.10"
  },
  "orig_nbformat": 4
 },
 "nbformat": 4,
 "nbformat_minor": 2
}
